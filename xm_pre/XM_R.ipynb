{
 "cells": [
  {
   "cell_type": "code",
   "execution_count": 1,
   "metadata": {},
   "outputs": [
    {
     "name": "stderr",
     "output_type": "stream",
     "text": [
      "Loading required package: stringr\n",
      "\n",
      "Loading required package: jsonlite\n",
      "\n",
      "Loading required package: dplyr\n",
      "\n",
      "\n",
      "Attaching package: ‘dplyr’\n",
      "\n",
      "\n",
      "The following objects are masked from ‘package:stats’:\n",
      "\n",
      "    filter, lag\n",
      "\n",
      "\n",
      "The following objects are masked from ‘package:base’:\n",
      "\n",
      "    intersect, setdiff, setequal, union\n",
      "\n",
      "\n",
      "Loading required package: rpart\n",
      "\n"
     ]
    }
   ],
   "source": [
    "if (!require(\"stringr\")) {\n",
    "  install.packages(\"stringr\") \n",
    "  stopifnot(require(\"stringr\")) \n",
    "}\n",
    "if (!require(\"jsonlite\")) {\n",
    "  install.packages(\"stringr\") \n",
    "  stopifnot(require(\"stringr\")) \n",
    "}\n",
    "if (!require(\"dplyr\")) {\n",
    "  install.packages(\"stringr\") \n",
    "  stopifnot(require(\"stringr\")) \n",
    "}\n",
    "if (!require(\"rpart\")) {\n",
    "  install.packages(\"stringr\") \n",
    "  stopifnot(require(\"stringr\")) \n",
    "}\n"
   ]
  },
  {
   "cell_type": "code",
   "execution_count": 2,
   "metadata": {},
   "outputs": [],
   "source": [
    "rm(list = ls())"
   ]
  },
  {
   "cell_type": "markdown",
   "metadata": {},
   "source": [
    "Read the subset we've obtained from the python code (XM_Python.ipynb)."
   ]
  },
  {
   "cell_type": "code",
   "execution_count": 3,
   "metadata": {},
   "outputs": [],
   "source": [
    "business_bars = read.csv('bars.csv')"
   ]
  },
  {
   "cell_type": "markdown",
   "metadata": {},
   "source": [
    "In the following chunk, we find that there are 2371 rows with at least one NA value in the attributes columns. Note that we have 4374 rows in total, we'll have approximate 2000 rows left if we delete rows with NA."
   ]
  },
  {
   "cell_type": "code",
   "execution_count": 4,
   "metadata": {},
   "outputs": [
    {
     "data": {
      "text/html": [
       "2371"
      ],
      "text/latex": [
       "2371"
      ],
      "text/markdown": [
       "2371"
      ],
      "text/plain": [
       "[1] 2371"
      ]
     },
     "metadata": {},
     "output_type": "display_data"
    }
   ],
   "source": [
    "sub_business_bars = business_bars[,c(1:3,16:25)]\n",
    "apply(sub_business_bars,1,function(row){\n",
    "  sapply(row, function(col){col==''})%>% sum >=1\n",
    "}) %>% sum"
   ]
  },
  {
   "cell_type": "markdown",
   "metadata": {},
   "source": [
    "The `rpart` function in `rpart` package implements regression trees with missing values."
   ]
  },
  {
   "cell_type": "code",
   "execution_count": 5,
   "metadata": {},
   "outputs": [
    {
     "name": "stdout",
     "output_type": "stream",
     "text": [
      "Call:\n",
      "rpart(formula = stars ~ BusinessAcceptsCreditCards + BusinessParking + \n",
      "    RestaurantsPriceRange2 + BikeParking, data = business_bars)\n",
      "  n= 4374 \n",
      "\n",
      "          CP nsplit rel error    xerror       xstd\n",
      "1 0.03055638      0 1.0000000 1.0011920 0.02164140\n",
      "2 0.01349128      1 0.9694436 0.9797897 0.02123949\n",
      "3 0.01000000      2 0.9559523 0.9749719 0.02131965\n",
      "\n",
      "Variable importance\n",
      "           BusinessParking BusinessAcceptsCreditCards \n",
      "                        69                         31 \n",
      "\n",
      "Node number 1: 4374 observations,    complexity param=0.03055638\n",
      "  mean=3.600366, MSE=0.561143 \n",
      "  left son=2 (3113 obs) right son=3 (1261 obs)\n",
      "  Primary splits:\n",
      "      BusinessParking            splits as  LLLRLLRLLLRLRLRRLRRRRRLLRLRRRRLRLLLLLRLLRRLRRLLLRRLL, improve=0.030556380, (0 missing)\n",
      "      BusinessAcceptsCreditCards splits as  LRLL, improve=0.015933170, (0 missing)\n",
      "      BikeParking                splits as  LLR, improve=0.015722710, (0 missing)\n",
      "      RestaurantsPriceRange2     splits as  RRLRLL, improve=0.006664727, (0 missing)\n",
      "\n",
      "Node number 2: 3113 observations,    complexity param=0.01349128\n",
      "  mean=3.517025, MSE=0.6148724 \n",
      "  left son=4 (2940 obs) right son=5 (173 obs)\n",
      "  Primary splits:\n",
      "      BusinessAcceptsCreditCards splits as  LRLL, improve=0.017299810, (0 missing)\n",
      "      RestaurantsPriceRange2     splits as  RRLLLL, improve=0.009494391, (0 missing)\n",
      "      BikeParking                splits as  LLR, improve=0.007647721, (0 missing)\n",
      "      BusinessParking            splits as  LRR-RL-RRL-R-L--R-----LR-L----R-RRRLR-RL--R--RRR--LR, improve=0.004327469, (0 missing)\n",
      "\n",
      "Node number 3: 1261 observations\n",
      "  mean=3.806106, MSE=0.3690269 \n",
      "\n",
      "Node number 4: 2940 observations\n",
      "  mean=3.492007, MSE=0.6030824 \n",
      "\n",
      "Node number 5: 173 observations\n",
      "  mean=3.942197, MSE=0.6238264 \n",
      "\n"
     ]
    }
   ],
   "source": [
    "mod = rpart(stars~BusinessAcceptsCreditCards+BusinessParking+RestaurantsPriceRange2+BikeParking, business_bars)\n",
    "summary(mod)"
   ]
  },
  {
   "cell_type": "code",
   "execution_count": 9,
   "metadata": {},
   "outputs": [
    {
     "data": {
      "text/html": [
       "<strong>1:</strong> 3.49200680272109"
      ],
      "text/latex": [
       "\\textbf{1:} 3.49200680272109"
      ],
      "text/markdown": [
       "**1:** 3.49200680272109"
      ],
      "text/plain": [
       "       1 \n",
       "3.492007 "
      ]
     },
     "metadata": {},
     "output_type": "display_data"
    }
   ],
   "source": [
    "predict(mod,data.frame(BusinessAcceptsCreditCards='True',BusinessParking='',RestaurantsPriceRange2='1',\n",
    "                       BikeParking = 'True'))"
   ]
  },
  {
   "cell_type": "code",
   "execution_count": 13,
   "metadata": {},
   "outputs": [
    {
     "name": "stdout",
     "output_type": "stream",
     "text": [
      "Call:\n",
      "rpart(formula = as.factor(stars) ~ BusinessAcceptsCreditCards + \n",
      "    BusinessParking + RestaurantsPriceRange2 + BikeParking, data = business_bars[1:100, \n",
      "    ])\n",
      "  n= 100 \n",
      "\n",
      "          CP nsplit rel error   xerror       xstd\n",
      "1 0.06493506      0 1.0000000 1.103896 0.04637291\n",
      "2 0.05194805      2 0.8701299 1.103896 0.04637291\n",
      "3 0.01298701      4 0.7662338 0.974026 0.05623542\n",
      "4 0.01000000      5 0.7532468 1.000000 0.05465357\n",
      "\n",
      "Variable importance\n",
      "           BusinessParking                BikeParking \n",
      "                        51                         26 \n",
      "    RestaurantsPriceRange2 BusinessAcceptsCreditCards \n",
      "                        20                          3 \n",
      "\n",
      "Node number 1: 100 observations,    complexity param=0.06493506\n",
      "  predicted class=3    expected loss=0.77  P(node) =1\n",
      "    class counts:     2     4     5    23    21    23    18     4\n",
      "   probabilities: 0.020 0.040 0.050 0.230 0.210 0.230 0.180 0.040 \n",
      "  left son=2 (12 obs) right son=3 (88 obs)\n",
      "  Primary splits:\n",
      "      BusinessParking            splits as  LRRLRRRRRRLR, improve=2.811515, (0 missing)\n",
      "      BusinessAcceptsCreditCards splits as  LLR,          improve=2.004444, (0 missing)\n",
      "      BikeParking                splits as  RLR,          improve=1.982112, (0 missing)\n",
      "      RestaurantsPriceRange2     splits as  RRLR,         improve=1.458654, (0 missing)\n",
      "\n",
      "Node number 2: 12 observations\n",
      "  predicted class=3    expected loss=0.5  P(node) =0.12\n",
      "    class counts:     1     2     2     6     0     1     0     0\n",
      "   probabilities: 0.083 0.167 0.167 0.500 0.000 0.083 0.000 0.000 \n",
      "\n",
      "Node number 3: 88 observations,    complexity param=0.06493506\n",
      "  predicted class=4    expected loss=0.75  P(node) =0.88\n",
      "    class counts:     1     2     3    17    21    22    18     4\n",
      "   probabilities: 0.011 0.023 0.034 0.193 0.239 0.250 0.205 0.045 \n",
      "  left son=6 (15 obs) right son=7 (73 obs)\n",
      "  Primary splits:\n",
      "      BikeParking                splits as  RLR,          improve=2.1343300, (0 missing)\n",
      "      BusinessParking            splits as  -LL-LRRLRR-L, improve=1.7318180, (0 missing)\n",
      "      RestaurantsPriceRange2     splits as  RRLR,         improve=1.5707070, (0 missing)\n",
      "      BusinessAcceptsCreditCards splits as  LLR,          improve=0.7426647, (0 missing)\n",
      "  Surrogate splits:\n",
      "      BusinessParking splits as  -RR-RLRRLR-R, agree=0.852, adj=0.133, (0 split)\n",
      "\n",
      "Node number 6: 15 observations\n",
      "  predicted class=3.5  expected loss=0.5333333  P(node) =0.15\n",
      "    class counts:     0     1     1     4     7     2     0     0\n",
      "   probabilities: 0.000 0.067 0.067 0.267 0.467 0.133 0.000 0.000 \n",
      "\n",
      "Node number 7: 73 observations,    complexity param=0.05194805\n",
      "  predicted class=4    expected loss=0.7260274  P(node) =0.73\n",
      "    class counts:     1     1     2    13    14    20    18     4\n",
      "   probabilities: 0.014 0.014 0.027 0.178 0.192 0.274 0.247 0.055 \n",
      "  left son=14 (28 obs) right son=15 (45 obs)\n",
      "  Primary splits:\n",
      "      BusinessParking        splits as  -LR-R-LR-L-R, improve=1.4363770, (0 missing)\n",
      "      RestaurantsPriceRange2 splits as  LRLR,         improve=1.1178180, (0 missing)\n",
      "      BikeParking            splits as  L-R,          improve=0.6853053, (0 missing)\n",
      "  Surrogate splits:\n",
      "      BikeParking                splits as  L-R,  agree=0.767, adj=0.393, (0 split)\n",
      "      BusinessAcceptsCreditCards splits as  LLR,  agree=0.671, adj=0.143, (0 split)\n",
      "      RestaurantsPriceRange2     splits as  LRRR, agree=0.671, adj=0.143, (0 split)\n",
      "\n",
      "Node number 14: 28 observations\n",
      "  predicted class=4    expected loss=0.6071429  P(node) =0.28\n",
      "    class counts:     1     1     1     2     5    11     5     2\n",
      "   probabilities: 0.036 0.036 0.036 0.071 0.179 0.393 0.179 0.071 \n",
      "\n",
      "Node number 15: 45 observations,    complexity param=0.05194805\n",
      "  predicted class=4.5  expected loss=0.7111111  P(node) =0.45\n",
      "    class counts:     0     0     1    11     9     9    13     2\n",
      "   probabilities: 0.000 0.000 0.022 0.244 0.200 0.200 0.289 0.044 \n",
      "  left son=30 (30 obs) right son=31 (15 obs)\n",
      "  Primary splits:\n",
      "      RestaurantsPriceRange2 splits as  RRLR,         improve=1.8444440, (0 missing)\n",
      "      BusinessParking        splits as  --R-L--R---R, improve=0.3325397, (0 missing)\n",
      "  Surrogate splits:\n",
      "      BusinessAcceptsCreditCards splits as  -RL,          agree=0.689, adj=0.067, (0 split)\n",
      "      BusinessParking            splits as  --L-L--L---R, agree=0.689, adj=0.067, (0 split)\n",
      "\n",
      "Node number 30: 30 observations,    complexity param=0.01298701\n",
      "  predicted class=3    expected loss=0.7  P(node) =0.3\n",
      "    class counts:     0     0     1     9     7     7     5     1\n",
      "   probabilities: 0.000 0.000 0.033 0.300 0.233 0.233 0.167 0.033 \n",
      "  left son=60 (16 obs) right son=61 (14 obs)\n",
      "  Primary splits:\n",
      "      BusinessParking splits as  --R-L--R----, improve=0.6511905, (0 missing)\n",
      "\n",
      "Node number 31: 15 observations\n",
      "  predicted class=4.5  expected loss=0.4666667  P(node) =0.15\n",
      "    class counts:     0     0     0     2     2     2     8     1\n",
      "   probabilities: 0.000 0.000 0.000 0.133 0.133 0.133 0.533 0.067 \n",
      "\n",
      "Node number 60: 16 observations\n",
      "  predicted class=3    expected loss=0.625  P(node) =0.16\n",
      "    class counts:     0     0     1     6     4     4     1     0\n",
      "   probabilities: 0.000 0.000 0.062 0.375 0.250 0.250 0.062 0.000 \n",
      "\n",
      "Node number 61: 14 observations\n",
      "  predicted class=4.5  expected loss=0.7142857  P(node) =0.14\n",
      "    class counts:     0     0     0     3     3     3     4     1\n",
      "   probabilities: 0.000 0.000 0.000 0.214 0.214 0.214 0.286 0.071 \n",
      "\n"
     ]
    }
   ],
   "source": [
    "mod2 = rpart(as.factor(stars)~BusinessAcceptsCreditCards+BusinessParking+RestaurantsPriceRange2+BikeParking, \n",
    "            business_bars[1:100,])\n",
    "summary(mod2)"
   ]
  },
  {
   "cell_type": "code",
   "execution_count": 14,
   "metadata": {},
   "outputs": [
    {
     "data": {
      "text/html": [
       "<table>\n",
       "<caption>A matrix: 1 × 8 of type dbl</caption>\n",
       "<thead>\n",
       "\t<tr><th></th><th scope=col>1.5</th><th scope=col>2</th><th scope=col>2.5</th><th scope=col>3</th><th scope=col>3.5</th><th scope=col>4</th><th scope=col>4.5</th><th scope=col>5</th></tr>\n",
       "</thead>\n",
       "<tbody>\n",
       "\t<tr><th scope=row>1</th><td>0.08333333</td><td>0.1666667</td><td>0.1666667</td><td>0.5</td><td>0</td><td>0.08333333</td><td>0</td><td>0</td></tr>\n",
       "</tbody>\n",
       "</table>\n"
      ],
      "text/latex": [
       "A matrix: 1 × 8 of type dbl\n",
       "\\begin{tabular}{r|llllllll}\n",
       "  & 1.5 & 2 & 2.5 & 3 & 3.5 & 4 & 4.5 & 5\\\\\n",
       "\\hline\n",
       "\t1 & 0.08333333 & 0.1666667 & 0.1666667 & 0.5 & 0 & 0.08333333 & 0 & 0\\\\\n",
       "\\end{tabular}\n"
      ],
      "text/markdown": [
       "\n",
       "A matrix: 1 × 8 of type dbl\n",
       "\n",
       "| <!--/--> | 1.5 | 2 | 2.5 | 3 | 3.5 | 4 | 4.5 | 5 |\n",
       "|---|---|---|---|---|---|---|---|---|\n",
       "| 1 | 0.08333333 | 0.1666667 | 0.1666667 | 0.5 | 0 | 0.08333333 | 0 | 0 |\n",
       "\n"
      ],
      "text/plain": [
       "  1.5        2         2.5       3   3.5 4          4.5 5\n",
       "1 0.08333333 0.1666667 0.1666667 0.5 0   0.08333333 0   0"
      ]
     },
     "metadata": {},
     "output_type": "display_data"
    }
   ],
   "source": [
    "predict(mod2,data.frame(BusinessAcceptsCreditCards='False',BusinessParking='',RestaurantsPriceRange2='2',\n",
    "                       BikeParking = 'False'))"
   ]
  }
 ],
 "metadata": {
  "kernelspec": {
   "display_name": "R",
   "language": "R",
   "name": "ir"
  },
  "language_info": {
   "codemirror_mode": "r",
   "file_extension": ".r",
   "mimetype": "text/x-r-source",
   "name": "R",
   "pygments_lexer": "r",
   "version": "4.0.3"
  }
 },
 "nbformat": 4,
 "nbformat_minor": 4
}
